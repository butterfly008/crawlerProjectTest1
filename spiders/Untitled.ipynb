{
 "cells": [
  {
   "cell_type": "code",
   "execution_count": 3,
   "metadata": {},
   "outputs": [],
   "source": [
    "from tkinter import *\n",
    "\n",
    "root =Tk()\n",
    "\n",
    "topFrame = Frame(root)\n",
    "topFrame.pack()\n",
    "bottomFrame = Frame(root)\n",
    "bottomFrame.pack(side=BOTTOM)\n",
    "question1 = Label(topFrame, text=\"som\" )\n",
    "#question1.pack()\n",
    "entry_1=Entry(root)\n",
    "\n",
    "\n",
    "\n",
    "# question1.grid(row=0)\n",
    "#entry_1 =grid(row=0,column=1)\n",
    "root.mainloop()\n"
   ]
  },
  {
   "cell_type": "code",
   "execution_count": null,
   "metadata": {},
   "outputs": [],
   "source": []
  }
 ],
 "metadata": {
  "kernelspec": {
   "display_name": "Python 3",
   "language": "python",
   "name": "python3"
  },
  "language_info": {
   "codemirror_mode": {
    "name": "ipython",
    "version": 3
   },
   "file_extension": ".py",
   "mimetype": "text/x-python",
   "name": "python",
   "nbconvert_exporter": "python",
   "pygments_lexer": "ipython3",
   "version": "3.7.1"
  }
 },
 "nbformat": 4,
 "nbformat_minor": 2
}
